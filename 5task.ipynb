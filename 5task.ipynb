{
 "cells": [
  {
   "cell_type": "code",
   "execution_count": 20,
   "metadata": {},
   "outputs": [],
   "source": [
    "import numpy as np\n",
    "from matplotlib import mlab\n",
    "\n",
    "delta = 0.0001\n",
    "epsX, epsE = 0.0005, 0.0005\n",
    "xmin = float(2**(1/6))\n",
    "npts = 40 #узлы интегрирования\n",
    "gamma = float(6.6e-11)\n",
    "#точки поворота\n",
    "sxin, sxout = [], []"
   ]
  },
  {
   "cell_type": "code",
   "execution_count": 21,
   "metadata": {},
   "outputs": [],
   "source": [
    "def potential(x):\n",
    "    return 4*(x**(-12) - x**(-6))\n",
    "\n",
    "def integrate(func, min_lim, max_lim, n):\n",
    "    integral = 0.0\n",
    "    step = (max_lim - min_lim) / n\n",
    "    x = min_lim #+ step\n",
    "    '''\n",
    "    for x in mlab.frange(min_lim + step / 2, max_lim - step / 2, step):\n",
    "        integral += step / 6 * ( func(x - step / 2) + 4 * func(x) + func(x + step / 2) )\n",
    "    return integral*step/3\n",
    "    '''\n",
    "    while (x < max_lim):\n",
    "        integral += 4 * func(x)\n",
    "        x = x + step\n",
    "        integral += 2 * func(x)\n",
    "        x += step\n",
    "\n",
    "    integral = step / 3 * (integral + func(min_lim) - func(max_lim))\n",
    "    return integral\n",
    "\n",
    "def x1_x2(E):\n",
    "    return (1 - np.sqrt(1 - E)) / 2.0, (1 - np.sqrt(1 + E)) / 2.0\n",
    "\n",
    "def s_effect(E):\n",
    "    xmin, xmax = x1_x2(E)\n",
    "    integral = integrate(potential, xmin, xmax, npts)\n",
    "    nmax = gamma * integral - 0.5\n",
    "    return nmax, xmin, xmax\n",
    "\n",
    "def main_calc(En, ar_xin, ar_xout):\n",
    "    nmax, xin, xout = s_effect(-0.0005)\n",
    "    nmax = int(nmax)\n",
    "    print(nmax)\n",
    "    #start\n",
    "    En.append(-0.0005)\n",
    "    ar_xin.append(xin)\n",
    "    ar_xout.append(xout)\n",
    "    E = -1\n",
    "    de = 0.0001\n",
    "    for n in range(nmax):\n",
    "        if n == 100:\n",
    "            break\n",
    "        E += de\n",
    "        de = 2*epsE\n",
    "        E, xin, xout = calc_energy_level(E, n, de)\n",
    "        En.append(E)\n",
    "        ar_xin.append(xin)\n",
    "        ar_xout.append(xout)\n",
    "\n",
    "def calc_energy_level(E,n, de):\n",
    "    s, xin, xout = s_effect(E)\n",
    "    while np.abs(s - n) >= 0.005:\n",
    "        E += de\n",
    "        if E > 0:\n",
    "            E = -1\n",
    "            #de /= 10.0\n",
    "        s, xin, xout = s_effect(E)\n",
    "    return E, xin, xout"
   ]
  },
  {
   "cell_type": "code",
   "execution_count": null,
   "metadata": {},
   "outputs": [
    {
     "name": "stdout",
     "output_type": "stream",
     "text": [
      "10389197157846818775154283166540205393198382280496086648995041350323682320318464\n"
     ]
    }
   ],
   "source": [
    "nmax, x1min, x2min  = s_effect(-epsE)\n",
    "En = []\n",
    "En.append(0)\n",
    "main_calc(En, sxin, sxout)\n",
    "\n",
    "kscale = 180/2/float(gamma)\n",
    "\n",
    "print(En)"
   ]
  },
  {
   "cell_type": "code",
   "execution_count": null,
   "metadata": {},
   "outputs": [],
   "source": []
  }
 ],
 "metadata": {
  "kernelspec": {
   "display_name": "Python 3",
   "language": "python",
   "name": "python3"
  },
  "language_info": {
   "codemirror_mode": {
    "name": "ipython",
    "version": 3
   },
   "file_extension": ".py",
   "mimetype": "text/x-python",
   "name": "python",
   "nbconvert_exporter": "python",
   "pygments_lexer": "ipython3",
   "version": "3.7.0"
  }
 },
 "nbformat": 4,
 "nbformat_minor": 2
}
