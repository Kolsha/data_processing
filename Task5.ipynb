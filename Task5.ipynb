{
 "cells": [
  {
   "cell_type": "code",
   "execution_count": 1,
   "metadata": {},
   "outputs": [],
   "source": [
    "import numpy as np\n",
    "\n",
    "import matplotlib.pyplot as plt\n",
    "\n",
    "from IPython import display"
   ]
  },
  {
   "cell_type": "markdown",
   "metadata": {},
   "source": [
    "# Task #5 Quasiclassic"
   ]
  },
  {
   "cell_type": "code",
   "execution_count": 2,
   "metadata": {},
   "outputs": [],
   "source": [
    "def find_zero(func, x0, x1, step = 1e-3, eps = 1e-6):\n",
    "    left = x0\n",
    "    right = x0 + step\n",
    "    while right + step < x1 and func(left) * func(right) > 0:\n",
    "        left, right = right, right + step\n",
    "    \n",
    "    if func(left) * func(right) > 0:\n",
    "        return None\n",
    "    middle = (left + right) / 2\n",
    "    while np.abs(func(middle)) > eps:\n",
    "        if func(left) * func(middle) < 0:\n",
    "            right = middle\n",
    "        else:\n",
    "            left = middle\n",
    "        middle = (left + right) / 2\n",
    "    return middle\n",
    "        \n",
    "\n",
    "def find_all_zeros(func_builder, x0, x1, step = 1e-3, eps = 1e-6, max_count = 5):\n",
    "    res = []\n",
    "    n = 1\n",
    "    while True:\n",
    "        zero = find_zero(func_builder(n), x0, x1, step, eps)\n",
    "        if zero is None or n > max_count:\n",
    "            break\n",
    "        print('#%d zero found' % n)\n",
    "        res.append(zero)\n",
    "        n += 1\n",
    "    return res\n",
    "\n",
    "def integrate(func, x0, x1, h = 0.1):\n",
    "    res = 0.0\n",
    "    grid = np.arange(x0, x1, h)\n",
    "    for i in range(len(grid) - 1):\n",
    "        a = grid[i]\n",
    "        b = grid[i+1]\n",
    "        res += (b - a) / 6 * (func(a) + 4*func((a + b)/2) + func(b))\n",
    "    return res\n",
    "\n",
    "def action(gamma):\n",
    "#     gamma = 21.7\n",
    "    def _func(n):\n",
    "        return lambda func, x0, x1, h: gamma * integrate(func, x0, x1, h) - np.pi * (n + 0.5)\n",
    "    return _func"
   ]
  },
  {
   "cell_type": "code",
   "execution_count": 3,
   "metadata": {},
   "outputs": [],
   "source": [
    "def lj_potential(x):\n",
    "    return 4*(np.power(x, -12) - np.power(x, -6))\n",
    "\n",
    "# En -> (x -> Double)\n",
    "def impulse(En):\n",
    "    return lambda x: np.sqrt(En - lj_potential(x))\n",
    "\n",
    "def get_bounds(En):\n",
    "    dx = np.sqrt(1+En)\n",
    "    x0 = np.power(0.5*(1 + dx), -1/6) + 1e-5\n",
    "    x1 = np.power(0.5*(1 - dx), -1/6)\n",
    "    return x0, x1"
   ]
  },
  {
   "cell_type": "code",
   "execution_count": 6,
   "metadata": {},
   "outputs": [
    {
     "name": "stdout",
     "output_type": "stream",
     "text": [
      "# levels:  23.0\n",
      "#1 zero found\n",
      "#2 zero found\n",
      "#3 zero found\n",
      "#4 zero found\n",
      "#5 zero found\n"
     ]
    }
   ],
   "source": [
    "h = 1e-3\n",
    "E0 = -1 + h\n",
    "E1 = 0\n",
    "n = 12\n",
    "\n",
    "def build_func(n):\n",
    "    act = action(gamma_H2)(n)\n",
    "    def _func(En):\n",
    "        x0, x1 = get_bounds(En)\n",
    "        return act(impulse(En), x0, x1, h)\n",
    "    return _func\n",
    "\n",
    "# print(find_zero(build_func(n), E0, E1, eps = 1e-3))\n",
    "nmax = np.floor(build_func(0)(-h))\n",
    "print('# levels: ', nmax)\n",
    "\n",
    "zeros = find_all_zeros(build_func, E0, E1, eps = 1e-2)"
   ]
  },
  {
   "cell_type": "code",
   "execution_count": 28,
   "metadata": {},
   "outputs": [
    {
     "data": {
      "image/png": "[encoded data removed]",
      "text/plain": [
       "<Figure size 864x432 with 1 Axes>"
      ]
     },
     "metadata": {
      "needs_background": "light"
     },
     "output_type": "display_data"
    }
   ],
   "source": [
    "x = np.linspace(0.99, 2.5, 200)\n",
    "y = lj_potential(x)\n",
    "r0 = np.power(2, 1/6)\n",
    "\n",
    "plt.figure(figsize=(12, 6))\n",
    "plt.plot(x, y, color='green', linewidth=4)\n",
    "\n",
    "plt.title('Potential with {:d} zeros'.format(len(zeros)))\n",
    "\n",
    "#plt.vlines(r0, -1, 0, colors='c', linestyle='--')\n",
    "#plt.text(r0 + 0.01, 0.03, 'r0={:g}'.format(r0), fontsize=12, horizontalalignment='left')\n",
    "\n",
    "for i, zero in enumerate(zeros):\n",
    "    x0, x1 = get_bounds(zero)\n",
    "    plt.hlines(zero, x0, x1)\n",
    "    plt.text(x1 + 0.15, zero, 'E{:d} = {:g}'.format(i + 1, zero), color='red', fontsize=12, verticalalignment='top')\n",
    "    \n",
    "plt.xlabel('r', fontsize=14)\n",
    "plt.ylabel('E', fontsize=14)\n",
    "\n",
    "plt.show()"
   ]
  },
  {
   "cell_type": "markdown",
   "metadata": {},
   "source": [
    "## Test"
   ]
  },
  {
   "cell_type": "code",
   "execution_count": 17,
   "metadata": {},
   "outputs": [
    {
     "name": "stdout",
     "output_type": "stream",
     "text": [
      "0\n",
      "1\n",
      "2\n",
      "3\n",
      "4\n",
      "5\n"
     ]
    }
   ],
   "source": [
    "h = 1e-3\n",
    "E0 = 0 + h\n",
    "E1 = 10\n",
    "\n",
    "def test_potential(x):\n",
    "    return x**2 / 4\n",
    "\n",
    "def test_impulse(En):\n",
    "    def _func(x):\n",
    "        return np.sqrt(En - test_potential(x))\n",
    "    return _func\n",
    "\n",
    "def get_test_bounds(En):\n",
    "    abs_root = 2 * np.sqrt(En)\n",
    "    return -abs_root + 1e-5, abs_root\n",
    "\n",
    "def build_test_func(n):\n",
    "    act = action(1)(n)\n",
    "    def _func(En):\n",
    "        x0, x1 = get_test_bounds(En)\n",
    "        return act(test_impulse(En), x0, x1, h)\n",
    "    return _func\n",
    "\n",
    "# print(find_zero(build_func(n), E0, E1, eps = 1e-3))\n",
    "\n",
    "zeros = []\n",
    "for n in range(0, 6):\n",
    "    zeros.append(find_zero(build_test_func(n), E0, E1, step=1e-1, eps = 1e-3))\n",
    "    print(n)\n",
    "\n",
    "zeros = np.array(zeros)"
   ]
  },
  {
   "cell_type": "code",
   "execution_count": 12,
   "metadata": {},
   "outputs": [
    {
     "ename": "NameError",
     "evalue": "name 'test_potential' is not defined",
     "output_type": "error",
     "traceback": [
      "\u001b[0;31m---------------------------------------------------------------------------\u001b[0m",
      "\u001b[0;31mNameError\u001b[0m                                 Traceback (most recent call last)",
      "\u001b[0;32m<ipython-input-12-9a404a921be5>\u001b[0m in \u001b[0;36m<module>\u001b[0;34m()\u001b[0m\n\u001b[1;32m      1\u001b[0m \u001b[0mx\u001b[0m \u001b[0;34m=\u001b[0m \u001b[0mnp\u001b[0m\u001b[0;34m.\u001b[0m\u001b[0mlinspace\u001b[0m\u001b[0;34m(\u001b[0m\u001b[0;34m-\u001b[0m\u001b[0;36m5\u001b[0m\u001b[0;34m,\u001b[0m \u001b[0;36m5\u001b[0m\u001b[0;34m,\u001b[0m \u001b[0;36m200\u001b[0m\u001b[0;34m)\u001b[0m\u001b[0;34m\u001b[0m\u001b[0m\n\u001b[0;32m----> 2\u001b[0;31m \u001b[0my\u001b[0m \u001b[0;34m=\u001b[0m \u001b[0mtest_potential\u001b[0m\u001b[0;34m(\u001b[0m\u001b[0mx\u001b[0m\u001b[0;34m)\u001b[0m\u001b[0;34m\u001b[0m\u001b[0m\n\u001b[0m\u001b[1;32m      3\u001b[0m \u001b[0;34m\u001b[0m\u001b[0m\n\u001b[1;32m      4\u001b[0m \u001b[0mplt\u001b[0m\u001b[0;34m.\u001b[0m\u001b[0mfigure\u001b[0m\u001b[0;34m(\u001b[0m\u001b[0mfigsize\u001b[0m\u001b[0;34m=\u001b[0m\u001b[0;34m(\u001b[0m\u001b[0;36m12\u001b[0m\u001b[0;34m,\u001b[0m \u001b[0;36m6\u001b[0m\u001b[0;34m)\u001b[0m\u001b[0;34m)\u001b[0m\u001b[0;34m\u001b[0m\u001b[0m\n\u001b[1;32m      5\u001b[0m \u001b[0mplt\u001b[0m\u001b[0;34m.\u001b[0m\u001b[0mplot\u001b[0m\u001b[0;34m(\u001b[0m\u001b[0mx\u001b[0m\u001b[0;34m,\u001b[0m \u001b[0my\u001b[0m\u001b[0;34m,\u001b[0m \u001b[0mcolor\u001b[0m\u001b[0;34m=\u001b[0m\u001b[0;34m'green'\u001b[0m\u001b[0;34m,\u001b[0m \u001b[0mlinewidth\u001b[0m\u001b[0;34m=\u001b[0m\u001b[0;36m4\u001b[0m\u001b[0;34m)\u001b[0m\u001b[0;34m\u001b[0m\u001b[0m\n",
      "\u001b[0;31mNameError\u001b[0m: name 'test_potential' is not defined"
     ]
    }
   ],
   "source": [
    "x = np.linspace(-5, 5, 200)\n",
    "y = test_potential(x)\n",
    "\n",
    "plt.figure(figsize=(12, 6))\n",
    "plt.plot(x, y, color='green', linewidth=4)\n",
    "\n",
    "for i, zero in enumerate(zeros):\n",
    "    x0, x1 = get_test_bounds(zero)\n",
    "    plt.hlines(zero, x0, x1)\n",
    "    #plt.text(x1 + 0.05, zero, 'E{:d}={:g}'.format(i + 1, zero), fontsize=12, verticalalignment='center')\n",
    "\n",
    "# print(zeros[1:] - zeros[:-1])\n",
    "plt.xlabel('r', fontsize=14)\n",
    "plt.ylabel('E', fontsize=14)\n",
    "\n",
    "plt.show()"
   ]
  },
  {
   "cell_type": "code",
   "execution_count": 5,
   "metadata": {},
   "outputs": [
    {
     "data": {
      "text/plain": [
       "32.60196635131638"
      ]
     },
     "execution_count": 5,
     "metadata": {},
     "output_type": "execute_result"
    }
   ],
   "source": [
    "m = 1.790476689362e-27# ??\n",
    "a = 6.5926e-11 # m\n",
    "V0 = 7.595e-19 # J\n",
    "h_bar = 1.0545718e-34\n",
    "\n",
    "gamma_H2 = np.sqrt(2 * m * a**2 * V0 / h_bar**2)\n",
    "gamma_H2"
   ]
  },
  {
   "cell_type": "code",
   "execution_count": 19,
   "metadata": {},
   "outputs": [
    {
     "data": {
      "text/plain": [
       "10.37752819865529"
      ]
     },
     "execution_count": 19,
     "metadata": {},
     "output_type": "execute_result"
    }
   ],
   "source": [
    "gamma_H2 / np.pi"
   ]
  },
  {
   "cell_type": "code",
   "execution_count": null,
   "metadata": {},
   "outputs": [],
   "source": []
  }
 ],
 "metadata": {
  "kernelspec": {
   "display_name": "Python 3",
   "language": "python",
   "name": "python3"
  },
  "language_info": {
   "codemirror_mode": {
    "name": "ipython",
    "version": 3
   },
   "file_extension": ".py",
   "mimetype": "text/x-python",
   "name": "python",
   "nbconvert_exporter": "python",
   "pygments_lexer": "ipython3",
   "version": "3.7.0"
  }
 },
 "nbformat": 4,
 "nbformat_minor": 2
}
