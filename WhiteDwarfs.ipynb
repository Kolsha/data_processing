{
 "cells": [
  {
   "cell_type": "code",
   "execution_count": 2,
   "metadata": {},
   "outputs": [],
   "source": [
    "%matplotlib inline\n",
    "\n",
    "import matplotlib.patches as mpatches\n",
    "import matplotlib.pyplot as plt\n",
    "import numpy as np\n",
    "import scipy as sp\n",
    "import time\n",
    "import IPython"
   ]
  },
  {
   "cell_type": "code",
   "execution_count": 3,
   "metadata": {},
   "outputs": [],
   "source": [
    "c   = 2.9979245800e+10 # Speed of light in CGS, in SI e-11\n",
    "G   = 6.6741840000e-08 # Gravitational constant in CGS, in SI e-11\n",
    "h   = 1.0545718000e-27 # Planck constant with dash in CGS, in SI e-34\n",
    "m_p = 1.6726218980e-24 # Proton mass in CGS, in SI e-27\n",
    "m_e = 9.1093835600e-28 # Electron mass in CGS, in SI e-31"
   ]
  },
  {
   "cell_type": "code",
   "execution_count": 4,
   "metadata": {
    "scrolled": true
   },
   "outputs": [
    {
     "name": "stdout",
     "output_type": "stream",
     "text": [
      "betta = 1.000000e+00\n",
      "n0 = 5.865157e+29\n",
      "po0 = 9.810189e+05\n"
     ]
    }
   ],
   "source": [
    "n0 = ((m_e*c/h) ** 3) / (3*(np.pi ** 2)) # Does not depend on anything\n",
    "betta = 1#26.0/56.0\n",
    "po0 = m_p*n0/betta\n",
    "\n",
    "print(\"betta = {:.6e}\\nn0 = {:.6e}\\npo0 = {:.6e}\".format(betta, n0, po0))"
   ]
  },
  {
   "cell_type": "code",
   "execution_count": 5,
   "metadata": {},
   "outputs": [
    {
     "name": "stdout",
     "output_type": "stream",
     "text": [
      "R0 = 7.713005e+08\n",
      "M0 = 5.656633e+33\n"
     ]
    }
   ],
   "source": [
    "R0 = np.sqrt((c ** 2)*betta*(m_e/m_p)/(4*np.pi*G*po0))\n",
    "M0 = 4*np.pi*(R0 ** 3)*po0\n",
    "\n",
    "print(\"R0 = {:.6e}\\nM0 = {:.6e}\".format(R0, M0))"
   ]
  },
  {
   "cell_type": "code",
   "execution_count": 6,
   "metadata": {},
   "outputs": [],
   "source": [
    "dwarf_parameter = 1.0 # set this parameter\n",
    "\n",
    "po_c = dwarf_parameter*po0\n",
    "\n",
    "po_c = 1e6\n",
    "\n",
    "def gamma(x):\n",
    "    return (x ** 2)/(3.0*np.sqrt(1 + (x ** 2)))"
   ]
  },
  {
   "cell_type": "code",
   "execution_count": 7,
   "metadata": {},
   "outputs": [],
   "source": [
    "def runge_kutta_step(f, t, y, dt):\n",
    "    k1 = dt*f(t, y)\n",
    "    k2 = dt*f(t + dt/2, y + k1/2)\n",
    "    k3 = dt*f(t + dt/2, y + k2/2)\n",
    "    k4 = dt*f(t + dt, y + k3)\n",
    "    return y + (k1 + 2*(k2 + k3) + k4)/6\n",
    "\n",
    "\n",
    "def differential_solver(f, t0, y0: np.ndarray, t1, dt=0.1, step_fn=runge_kutta_step, stop_condition=None):\n",
    "    \n",
    "    t = t0\n",
    "    y = y0\n",
    "    \n",
    "    steps_count = int(np.ceil((t1 - t0)/dt))\n",
    "    solution = np.zeros( (steps_count, ) + np.shape(y0), dtype=y0.dtype)\n",
    "    \n",
    "    for i in range(steps_count):\n",
    "        \n",
    "        y = step_fn(f, t, y, dt)\n",
    "        solution[i] = y\n",
    "        \n",
    "        if stop_condition is not None:\n",
    "            if stop_condition(t, y):\n",
    "                return solution[:i]\n",
    "        \n",
    "        t += dt\n",
    "    \n",
    "    return solution"
   ]
  },
  {
   "cell_type": "code",
   "execution_count": 8,
   "metadata": {},
   "outputs": [],
   "source": [
    "def differential_system_function(t, y):\n",
    "    \n",
    "    r = t\n",
    "    m = y[0]\n",
    "    po = y[1]\n",
    "    \n",
    "    if po <= 0.0 or np.isnan(po) or np.isnan(m) or np.isinf(po) or np.isinf(m):\n",
    "        return np.array((0.0, np.inf), dtype=type(y[0]))\n",
    "    \n",
    "    x = np.power(np.max((po, 0.0)), 1.0/3.0)\n",
    "    \n",
    "    dm_dr = po*(r ** 2)\n",
    "    dpo_dr = -m*po/(gamma(x) * (r ** 2))\n",
    "    \n",
    "    return np.array((dm_dr, dpo_dr), dtype=type(y[0]))\n",
    "\n",
    "\n",
    "def differential_system_stop_condition(t, y):\n",
    "    m = y[0]\n",
    "    po = y[1]\n",
    "    return po <= 0.0 or np.isnan(po) or np.isnan(m) or np.isinf(po) or np.isinf(m)"
   ]
  },
  {
   "cell_type": "code",
   "execution_count": 9,
   "metadata": {},
   "outputs": [
    {
     "name": "stdout",
     "output_type": "stream",
     "text": [
      "1000000.0 0.048074598017704744 [3.7036141e-08 9.9998367e-01]\n",
      "----- Dimesionless ------\n",
      "White dwarf mass: 0.7069002985954285\n",
      "White dwarf radius: 2.4085373606870077\n"
     ]
    },
    {
     "data": {
      "image/png": "[encoded data removed]",
      "text/plain": [
       "<Figure size 432x288 with 1 Axes>"
      ]
     },
     "metadata": {
      "needs_background": "light"
     },
     "output_type": "display_data"
    }
   ],
   "source": [
    "dr = 0.33333*((0.003/dwarf_parameter) ** 0.333333)#0.001\n",
    "r0 = dr / 10.0\n",
    "r1 = dr * 1000000\n",
    "\n",
    "m_r0 = dwarf_parameter/3.0*(r0 ** 3)\n",
    "po_r0 = dwarf_parameter - (dwarf_parameter ** 2)*(r0 ** 2) / (6.0*gamma(np.power(dwarf_parameter, 1.0/3.0)))\n",
    "y_r0 = np.array([m_r0, po_r0], dtype=np.float32)\n",
    "\n",
    "print(po_c, dr, y_r0)\n",
    "\n",
    "dwarf_solution = differential_solver(f=differential_system_function,\n",
    "                                     t0=r0, y0=y_r0, t1=r1, dt=dr,\n",
    "                                     step_fn=runge_kutta_step,\n",
    "                                     stop_condition=differential_system_stop_condition)\n",
    "\n",
    "steps_count = np.shape(dwarf_solution)[0]\n",
    "r = r0 + np.arange(steps_count)*dr\n",
    "\n",
    "print(\"----- Dimesionless ------\")\n",
    "print(\"White dwarf mass: {}\".format(dwarf_solution[-1, 0]))\n",
    "print(\"White dwarf radius: {}\".format(r0 + (steps_count - 1)*dr))\n",
    "\n",
    "red_patch = mpatches.Patch(color='red', label='White dwarf density')\n",
    "green_patch = mpatches.Patch(color='green', label='White dwarf cum mass')\n",
    "plt.legend(handles=[red_patch, green_patch])\n",
    "plt.plot(r, dwarf_solution[:, 0], 'g')\n",
    "plt.plot(r, dwarf_solution[:, 1], 'r')\n",
    "plt.show()"
   ]
  },
  {
   "cell_type": "code",
   "execution_count": 10,
   "metadata": {},
   "outputs": [],
   "source": [
    "def compute_dwarfs(dimensionless_center_density_array):\n",
    "    \n",
    "    radius_array = []\n",
    "    mass_array = []\n",
    "    density_array = []\n",
    "    \n",
    "    for d0 in dimensionless_center_density_array:\n",
    "        \n",
    "        dr = (1.0/3.0)*((0.003/d0) ** (1.0/3.0))/10\n",
    "        r0 = dr / 10\n",
    "        r1 = dr * 1000000\n",
    "\n",
    "        m_r0 = d0*(r0 ** 3) / 3.0\n",
    "        po_r0 = d0 - (d0 ** 2)*(r0 ** 2) / (6.0*gamma(np.power(d0, 1.0/3.0)))\n",
    "        y_r0 = np.array([m_r0, po_r0], dtype=np.float32)\n",
    "\n",
    "        dwarf_solution = differential_solver(f=differential_system_function,\n",
    "                                             t0=r0, y0=y_r0, t1=r1, dt=dr,\n",
    "                                             step_fn=runge_kutta_step,\n",
    "                                             stop_condition=differential_system_stop_condition)\n",
    "\n",
    "        steps_count = np.shape(dwarf_solution)[0]\n",
    "        r = r0 + np.arange(steps_count)*dr\n",
    "        m = dwarf_solution[:, 0]\n",
    "        po = dwarf_solution[:, 1]\n",
    "        \n",
    "        radius_array.append(r)\n",
    "        mass_array.append(m)\n",
    "        density_array.append(po)\n",
    "    \n",
    "    return radius_array, mass_array, density_array"
   ]
  },
  {
   "cell_type": "code",
   "execution_count": 11,
   "metadata": {},
   "outputs": [
    {
     "name": "stdout",
     "output_type": "stream",
     "text": [
      "Min parameter: 1e-06, Max parameter: 576460753665.7303\n",
      "Min radius: 0.0008272483828477561, Max raduis: 25.047067642211914\n",
      "Min mass: 0.0009593558497726917, Max mass: 2.0182340145111084\n"
     ]
    }
   ],
   "source": [
    "dimensionless_center_density_array = 1e-6*np.exp(np.arange(60)*0.6931471806)\n",
    "radius_array, mass_array, density_array = compute_dwarfs(dimensionless_center_density_array)\n",
    "\n",
    "po = dimensionless_center_density_array\n",
    "m = np.array([mass[-1] for mass in mass_array], dtype=np.float32)\n",
    "r = np.array([radius[-1] for radius in radius_array], dtype=np.float32)\n",
    "\n",
    "print(\"Min parameter: {}, Max parameter: {}\".format(np.min(po), np.max(po)))\n",
    "print(\"Min radius: {}, Max raduis: {}\".format(np.min(r), np.max(r)))\n",
    "print(\"Min mass: {}, Max mass: {}\".format(np.min(m), np.max(m)))"
   ]
  },
  {
   "cell_type": "code",
   "execution_count": 12,
   "metadata": {},
   "outputs": [
    {
     "data": {
      "image/png": "[encoded data removed]",
      "text/plain": [
       "<Figure size 432x288 with 1 Axes>"
      ]
     },
     "metadata": {
      "needs_background": "light"
     },
     "output_type": "display_data"
    },
    {
     "data": {
      "image/png": "[encoded data removed]",
      "text/plain": [
       "<Figure size 432x288 with 1 Axes>"
      ]
     },
     "metadata": {
      "needs_background": "light"
     },
     "output_type": "display_data"
    },
    {
     "name": "stdout",
     "output_type": "stream",
     "text": [
      "\n",
      "\n",
      "\n"
     ]
    },
    {
     "data": {
      "image/png": "[encoded data removed]",
      "text/plain": [
       "<Figure size 432x288 with 1 Axes>"
      ]
     },
     "metadata": {
      "needs_background": "light"
     },
     "output_type": "display_data"
    },
    {
     "data": {
      "image/png": "[encoded data removed]",
      "text/plain": [
       "<Figure size 432x288 with 1 Axes>"
      ]
     },
     "metadata": {
      "needs_background": "light"
     },
     "output_type": "display_data"
    }
   ],
   "source": [
    "plt.figure()\n",
    "plt.title(\"M_relative(center_density)\")\n",
    "plt.xscale('log')\n",
    "plt.plot(po, m, 'r')\n",
    "plt.show()\n",
    "\n",
    "plt.figure()\n",
    "plt.title(\"R_relative(center_density)\")\n",
    "plt.xscale('log')\n",
    "plt.plot(po, r, 'r')\n",
    "plt.show()\n",
    "\n",
    "print(\"\\n\\n\\n\", end='')\n",
    "\n",
    "plt.figure()\n",
    "plt.title(\"M(center_density)\")\n",
    "plt.xscale('log')\n",
    "plt.plot(po, m, 'r')\n",
    "plt.show()\n",
    "\n",
    "plt.figure()\n",
    "plt.title(\"R(center_density)\")\n",
    "plt.xscale('log')\n",
    "plt.plot(po, r, 'r')\n",
    "plt.show()"
   ]
  },
  {
   "cell_type": "code",
   "execution_count": null,
   "metadata": {},
   "outputs": [],
   "source": []
  }
 ],
 "metadata": {
  "kernelspec": {
   "display_name": "Python 3",
   "language": "python",
   "name": "python3"
  },
  "language_info": {
   "codemirror_mode": {
    "name": "ipython",
    "version": 3
   },
   "file_extension": ".py",
   "mimetype": "text/x-python",
   "name": "python",
   "nbconvert_exporter": "python",
   "pygments_lexer": "ipython3",
   "version": "3.7.0"
  }
 },
 "nbformat": 4,
 "nbformat_minor": 2
}
