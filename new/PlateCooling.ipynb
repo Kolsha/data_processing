{
 "cells": [
  {
   "cell_type": "code",
   "execution_count": 1,
   "metadata": {},
   "outputs": [],
   "source": [
    "import matplotlib.pyplot as plt\n",
    "import numpy as np\n",
    "import matplotlib.animation as animation\n",
    "from IPython import display\n"
   ]
  },
  {
   "cell_type": "code",
   "execution_count": 2,
   "metadata": {},
   "outputs": [],
   "source": [
    "def compute_heat_states(τ, τ_total):\n",
    "    return int(np.ceil(τ_total / τ) + 1.0)\n",
    "\n",
    "def compute_heat_process(T0, λ, τ, h, simulation_time):\n",
    "    h = np.shape(T0)[0]\n",
    "    w = np.shape(T0)[1]\n",
    "\n",
    "    t = τ\n",
    "    iters = 0\n",
    "    while t <= simulation_time:\n",
    "        t += τ\n",
    "        iters += 1\n",
    "\n",
    "    T = np.zeros([iters + 1, h, w], dtype=T0.dtype)\n",
    "    T[0] = T0\n",
    "\n",
    "    for it in range(1, iters+1):\n",
    "        for i in range(1, h-1):\n",
    "            for j in range(1, w-1):\n",
    "                dT = T[it-1][i+1][j] + T[it-1][i][j +1] + T[it-1][i-1][j] + T[it-1][i][j-1] - 4*T[it-1][i][j]\n",
    "                T[it][i][j] = (λ * τ) / (h ** 2) * dT + T[it - 1][i][j]\n",
    "\n",
    "    return T\n",
    "\n",
    "\n",
    "def compute_heat_process_progonka(To, N, k):\n",
    "    h = np.shape(To)[0]\n",
    "    w = np.shape(To)[1]\n",
    "\n",
    "    T = np.zeros([N, h, w], dtype=To.dtype)\n",
    "    T[0, 1:-1, 1:-1] = To[1:-1, 1:-1]\n",
    "\n",
    "    tmp = np.zeros([h, w], dtype=To.dtype)\n",
    "\n",
    "    k /= 2\n",
    "    C = -1 - 2 * k\n",
    "\n",
    "    F1 = np.zeros(w, dtype=To.dtype)\n",
    "    α1 = np.zeros(w, dtype=To.dtype)\n",
    "    β1 = np.zeros(w, dtype=To.dtype)\n",
    "\n",
    "    F2 = np.zeros(h, dtype=To.dtype)\n",
    "    α2 = np.zeros(h, dtype=To.dtype)\n",
    "    β2 = np.zeros(h, dtype=To.dtype)\n",
    "\n",
    "    α1[0] = 0\n",
    "    β1[0] = 0\n",
    "\n",
    "    α2[0] = 0\n",
    "    β2[0] = 0\n",
    "\n",
    "    for m in (range(1, N)):\n",
    "\n",
    "        for i in range(1, h - 1):\n",
    "\n",
    "            for j in range(0, w):\n",
    "                F1[j] = - k * T[m - 1, i - 1, j] + (2 * k - 1) * T[m - 1, i, j] - k * T[m - 1, i + 1, j]\n",
    "\n",
    "            for j in range(0, w - 1):\n",
    "                α1[j + 1] = -k / (k * α1[j] + C)\n",
    "                β1[j + 1] = (F1[j] - k * β1[j]) / (k * α1[j] + C)\n",
    "\n",
    "            for j in reversed(range(1, w - 1)):\n",
    "                tmp[i, j] = α1[j + 1] * tmp[i, j + 1] + β1[j + 1]\n",
    "\n",
    "        for j in range(1, w - 1):\n",
    "\n",
    "            for i in range(0, h):\n",
    "                F2[i] = - k * tmp[i, j - 1] + (2 * k - 1) * tmp[i, j] - k * tmp[i, j + 1]\n",
    "\n",
    "            for i in range(0, h - 1):\n",
    "                α2[i + 1] = -k / (k * α2[i] + C)\n",
    "                β2[i + 1] = (F2[i] - k * β2[i]) / (k * α2[i] + C)\n",
    "\n",
    "            for i in reversed(range(1, h - 1)):\n",
    "                T[m, i, j] = α2[i + 1] * tmp[i + 1, j] + β2[i + 1]\n",
    "\n",
    "    return T"
   ]
  },
  {
   "cell_type": "code",
   "execution_count": 14,
   "metadata": {},
   "outputs": [],
   "source": [
    "To = np.zeros([11, 11], dtype=np.float32)\n",
    "To[5][5] = 256.\n",
    "# To[5][6] = 256.\n",
    "# To[6][5] = 256.\n",
    "# To[4][5] = 256.\n",
    "# To[5][4] = 256.\n",
    "\n",
    "\n",
    "h = 0.01\n",
    "simulation_time = 100.0\n",
    "\n",
    "ρ_fe = 7800 # Kg/m^3\n",
    "c_fe = 450 # J/(Kg*°K)\n",
    "λ_fe = 80 # W/(m*°K)\n",
    "\n",
    "ρ = ρ_fe\n",
    "c = c_fe\n",
    "λ = λ_fe\n",
    "\n",
    "τ = 0.001 # s\n",
    "τ_total = 60.0 / 10.0 # s\n",
    "\n",
    "\n",
    "σ = λ / (ρ * c) # m^2/s\n",
    "k = τ*σ / (h ** 2)"
   ]
  },
  {
   "cell_type": "code",
   "execution_count": 11,
   "metadata": {},
   "outputs": [
    {
     "ename": "KeyboardInterrupt",
     "evalue": "",
     "output_type": "error",
     "traceback": [
      "\u001b[0;31m---------------------------------------------------------------------------\u001b[0m",
      "\u001b[0;31mKeyboardInterrupt\u001b[0m                         Traceback (most recent call last)",
      "\u001b[0;32m<ipython-input-11-4cc142a9dfc9>\u001b[0m in \u001b[0;36m<module>\u001b[0;34m()\u001b[0m\n\u001b[0;32m----> 1\u001b[0;31m \u001b[0mT\u001b[0m \u001b[0;34m=\u001b[0m \u001b[0;34m(\u001b[0m\u001b[0mcompute_heat_process\u001b[0m\u001b[0;34m(\u001b[0m\u001b[0mTo\u001b[0m\u001b[0;34m,\u001b[0m \u001b[0mλ\u001b[0m\u001b[0;34m,\u001b[0m \u001b[0mτ\u001b[0m\u001b[0;34m,\u001b[0m \u001b[0mh\u001b[0m\u001b[0;34m,\u001b[0m \u001b[0msimulation_time\u001b[0m\u001b[0;34m)\u001b[0m\u001b[0;34m)\u001b[0m\u001b[0;34m\u001b[0m\u001b[0m\n\u001b[0m\u001b[1;32m      2\u001b[0m \u001b[0mprint\u001b[0m\u001b[0;34m(\u001b[0m\u001b[0;34m\"Calc ended!\"\u001b[0m\u001b[0;34m)\u001b[0m\u001b[0;34m\u001b[0m\u001b[0m\n",
      "\u001b[0;32m<ipython-input-2-88c1cbdf9d6a>\u001b[0m in \u001b[0;36mcompute_heat_process\u001b[0;34m(T0, λ, τ, h, simulation_time)\u001b[0m\n\u001b[1;32m     18\u001b[0m         \u001b[0;32mfor\u001b[0m \u001b[0mi\u001b[0m \u001b[0;32min\u001b[0m \u001b[0mrange\u001b[0m\u001b[0;34m(\u001b[0m\u001b[0;36m1\u001b[0m\u001b[0;34m,\u001b[0m \u001b[0mh\u001b[0m\u001b[0;34m-\u001b[0m\u001b[0;36m1\u001b[0m\u001b[0;34m)\u001b[0m\u001b[0;34m:\u001b[0m\u001b[0;34m\u001b[0m\u001b[0m\n\u001b[1;32m     19\u001b[0m             \u001b[0;32mfor\u001b[0m \u001b[0mj\u001b[0m \u001b[0;32min\u001b[0m \u001b[0mrange\u001b[0m\u001b[0;34m(\u001b[0m\u001b[0;36m1\u001b[0m\u001b[0;34m,\u001b[0m \u001b[0mw\u001b[0m\u001b[0;34m-\u001b[0m\u001b[0;36m1\u001b[0m\u001b[0;34m)\u001b[0m\u001b[0;34m:\u001b[0m\u001b[0;34m\u001b[0m\u001b[0m\n\u001b[0;32m---> 20\u001b[0;31m                 \u001b[0mdT\u001b[0m \u001b[0;34m=\u001b[0m \u001b[0mT\u001b[0m\u001b[0;34m[\u001b[0m\u001b[0mit\u001b[0m\u001b[0;34m-\u001b[0m\u001b[0;36m1\u001b[0m\u001b[0;34m]\u001b[0m\u001b[0;34m[\u001b[0m\u001b[0mi\u001b[0m\u001b[0;34m+\u001b[0m\u001b[0;36m1\u001b[0m\u001b[0;34m]\u001b[0m\u001b[0;34m[\u001b[0m\u001b[0mj\u001b[0m\u001b[0;34m]\u001b[0m \u001b[0;34m+\u001b[0m \u001b[0mT\u001b[0m\u001b[0;34m[\u001b[0m\u001b[0mit\u001b[0m\u001b[0;34m-\u001b[0m\u001b[0;36m1\u001b[0m\u001b[0;34m]\u001b[0m\u001b[0;34m[\u001b[0m\u001b[0mi\u001b[0m\u001b[0;34m]\u001b[0m\u001b[0;34m[\u001b[0m\u001b[0mj\u001b[0m \u001b[0;34m+\u001b[0m\u001b[0;36m1\u001b[0m\u001b[0;34m]\u001b[0m \u001b[0;34m+\u001b[0m \u001b[0mT\u001b[0m\u001b[0;34m[\u001b[0m\u001b[0mit\u001b[0m\u001b[0;34m-\u001b[0m\u001b[0;36m1\u001b[0m\u001b[0;34m]\u001b[0m\u001b[0;34m[\u001b[0m\u001b[0mi\u001b[0m\u001b[0;34m-\u001b[0m\u001b[0;36m1\u001b[0m\u001b[0;34m]\u001b[0m\u001b[0;34m[\u001b[0m\u001b[0mj\u001b[0m\u001b[0;34m]\u001b[0m \u001b[0;34m+\u001b[0m \u001b[0mT\u001b[0m\u001b[0;34m[\u001b[0m\u001b[0mit\u001b[0m\u001b[0;34m-\u001b[0m\u001b[0;36m1\u001b[0m\u001b[0;34m]\u001b[0m\u001b[0;34m[\u001b[0m\u001b[0mi\u001b[0m\u001b[0;34m]\u001b[0m\u001b[0;34m[\u001b[0m\u001b[0mj\u001b[0m\u001b[0;34m-\u001b[0m\u001b[0;36m1\u001b[0m\u001b[0;34m]\u001b[0m \u001b[0;34m-\u001b[0m \u001b[0;36m4\u001b[0m\u001b[0;34m*\u001b[0m\u001b[0mT\u001b[0m\u001b[0;34m[\u001b[0m\u001b[0mit\u001b[0m\u001b[0;34m-\u001b[0m\u001b[0;36m1\u001b[0m\u001b[0;34m]\u001b[0m\u001b[0;34m[\u001b[0m\u001b[0mi\u001b[0m\u001b[0;34m]\u001b[0m\u001b[0;34m[\u001b[0m\u001b[0mj\u001b[0m\u001b[0;34m]\u001b[0m\u001b[0;34m\u001b[0m\u001b[0m\n\u001b[0m\u001b[1;32m     21\u001b[0m                 \u001b[0mT\u001b[0m\u001b[0;34m[\u001b[0m\u001b[0mit\u001b[0m\u001b[0;34m]\u001b[0m\u001b[0;34m[\u001b[0m\u001b[0mi\u001b[0m\u001b[0;34m]\u001b[0m\u001b[0;34m[\u001b[0m\u001b[0mj\u001b[0m\u001b[0;34m]\u001b[0m \u001b[0;34m=\u001b[0m \u001b[0;34m(\u001b[0m\u001b[0mλ\u001b[0m \u001b[0;34m*\u001b[0m \u001b[0mτ\u001b[0m\u001b[0;34m)\u001b[0m \u001b[0;34m/\u001b[0m \u001b[0;34m(\u001b[0m\u001b[0mh\u001b[0m \u001b[0;34m**\u001b[0m \u001b[0;36m2\u001b[0m\u001b[0;34m)\u001b[0m \u001b[0;34m*\u001b[0m \u001b[0mdT\u001b[0m \u001b[0;34m+\u001b[0m \u001b[0mT\u001b[0m\u001b[0;34m[\u001b[0m\u001b[0mit\u001b[0m \u001b[0;34m-\u001b[0m \u001b[0;36m1\u001b[0m\u001b[0;34m]\u001b[0m\u001b[0;34m[\u001b[0m\u001b[0mi\u001b[0m\u001b[0;34m]\u001b[0m\u001b[0;34m[\u001b[0m\u001b[0mj\u001b[0m\u001b[0;34m]\u001b[0m\u001b[0;34m\u001b[0m\u001b[0m\n\u001b[1;32m     22\u001b[0m \u001b[0;34m\u001b[0m\u001b[0m\n",
      "\u001b[0;31mKeyboardInterrupt\u001b[0m: "
     ]
    }
   ],
   "source": [
    "T = (compute_heat_process(To, λ, τ, h, simulation_time))\n",
    "print(\"Calc ended!\")"
   ]
  },
  {
   "cell_type": "code",
   "execution_count": 12,
   "metadata": {},
   "outputs": [
    {
     "ename": "NameError",
     "evalue": "name 'T' is not defined",
     "output_type": "error",
     "traceback": [
      "\u001b[0;31m---------------------------------------------------------------------------\u001b[0m",
      "\u001b[0;31mNameError\u001b[0m                                 Traceback (most recent call last)",
      "\u001b[0;32m<ipython-input-12-ffcc62837d1a>\u001b[0m in \u001b[0;36m<module>\u001b[0;34m()\u001b[0m\n\u001b[1;32m      1\u001b[0m \u001b[0mi\u001b[0m\u001b[0;34m=\u001b[0m\u001b[0;36m0\u001b[0m\u001b[0;34m\u001b[0m\u001b[0m\n\u001b[0;32m----> 2\u001b[0;31m \u001b[0;32mfor\u001b[0m \u001b[0mimg\u001b[0m \u001b[0;32min\u001b[0m \u001b[0mT\u001b[0m\u001b[0;34m:\u001b[0m\u001b[0;34m\u001b[0m\u001b[0m\n\u001b[0m\u001b[1;32m      3\u001b[0m     \u001b[0mi\u001b[0m \u001b[0;34m=\u001b[0m \u001b[0mi\u001b[0m \u001b[0;34m+\u001b[0m \u001b[0;36m1\u001b[0m\u001b[0;34m\u001b[0m\u001b[0m\n\u001b[1;32m      4\u001b[0m     \u001b[0;32mif\u001b[0m \u001b[0mi\u001b[0m \u001b[0;34m%\u001b[0m \u001b[0;36m50\u001b[0m \u001b[0;34m!=\u001b[0m \u001b[0;36m0\u001b[0m\u001b[0;34m:\u001b[0m\u001b[0;34m\u001b[0m\u001b[0m\n\u001b[1;32m      5\u001b[0m         \u001b[0;32mcontinue\u001b[0m\u001b[0;34m\u001b[0m\u001b[0m\n",
      "\u001b[0;31mNameError\u001b[0m: name 'T' is not defined"
     ]
    }
   ],
   "source": [
    "i=0\n",
    "for img in T:\n",
    "    i = i + 1\n",
    "    if i % 50 != 0:\n",
    "        continue\n",
    "    \n",
    "    display.display(plt.gcf())\n",
    "    display.clear_output(wait=True)\n",
    "    plt.clf()\n",
    "    \n",
    "    plt.imshow(img, aspect='auto', cmap='hot')\n",
    "    plt.xticks([]),\n",
    "    plt.yticks([])\n",
    "    plt.title(i)\n",
    "    plt.draw()\n",
    "    #plt.pause(0.0001)   \n",
    "#     display.display(plt.gcf())\n",
    "#     display.clear_output(wait=True)\n",
    "print(\"anim ended\")  "
   ]
  },
  {
   "cell_type": "code",
   "execution_count": 15,
   "metadata": {},
   "outputs": [
    {
     "name": "stdout",
     "output_type": "stream",
     "text": [
      "Calc ended!\n"
     ]
    }
   ],
   "source": [
    "N = compute_heat_states(τ, τ_total)\n",
    "T_new = compute_heat_process_progonka(To, N, k)\n",
    "print(\"Calc ended!\")"
   ]
  },
  {
   "cell_type": "code",
   "execution_count": 16,
   "metadata": {},
   "outputs": [
    {
     "name": "stdout",
     "output_type": "stream",
     "text": [
      "anim ended\n"
     ]
    },
    {
     "data": {
      "image/png": "[encoded data removed]",
      "text/plain": [
       "<Figure size 432x288 with 1 Axes>"
      ]
     },
     "metadata": {},
     "output_type": "display_data"
    }
   ],
   "source": [
    "i = 0\n",
    "for img in T_new:\n",
    "    i = i + 1\n",
    "    if i % 15 != 0:\n",
    "        continue\n",
    "#     plt.figure(figsize = (10,10))\n",
    "    #plt.title(frame_id)\n",
    "    \n",
    "    display.display(plt.gcf())\n",
    "    display.clear_output(wait=True)\n",
    "    plt.clf()\n",
    "    \n",
    "    plt.imshow(img, aspect='auto', cmap='hot')\n",
    "    plt.xticks([]),\n",
    "    plt.yticks([])\n",
    "    plt.title(i)\n",
    "    plt.draw()\n",
    "    #plt.pause(0.0001)   \n",
    "#     display.display(plt.gcf())\n",
    "#     display.clear_output(wait=True)\n",
    "print(\"anim ended\")  "
   ]
  },
  {
   "cell_type": "code",
   "execution_count": null,
   "metadata": {},
   "outputs": [],
   "source": []
  }
 ],
 "metadata": {
  "kernelspec": {
   "display_name": "Python 3",
   "language": "python",
   "name": "python3"
  },
  "language_info": {
   "codemirror_mode": {
    "name": "ipython",
    "version": 3
   },
   "file_extension": ".py",
   "mimetype": "text/x-python",
   "name": "python",
   "nbconvert_exporter": "python",
   "pygments_lexer": "ipython3",
   "version": "3.7.0"
  }
 },
 "nbformat": 4,
 "nbformat_minor": 2
}
