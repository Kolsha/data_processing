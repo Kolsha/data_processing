{
 "cells": [
  {
   "cell_type": "code",
   "execution_count": 1,
   "metadata": {},
   "outputs": [],
   "source": [
    "import numpy as np\n",
    "import matplotlib.pyplot as plt"
   ]
  },
  {
   "cell_type": "code",
   "execution_count": 69,
   "metadata": {},
   "outputs": [],
   "source": [
    "def solver(solver_step, t_start, y_start, funcs, dt=1e-2):\n",
    "    t = t_start\n",
    "    y = y_start.copy()\n",
    "    res = [y]\n",
    "    print('Start solve by: ', solver_step.__name__)\n",
    "    while y[1] >= 0.0:\n",
    "        #print(y)\n",
    "        y = solver_step(dt, t, y, funcs)\n",
    "        res.append(y)\n",
    "        \n",
    "        t = t + dt\n",
    "        \n",
    "        print('.', end='')\n",
    "    print('Solved')    \n",
    "    return t, np.array(res)\n",
    "\n",
    "def euler_koshi_step(dt, t, y, funcs):\n",
    "    y1 = np.zeros(len(funcs))\n",
    "    ny = np.zeros(len(funcs))\n",
    "    for (i, f) in enumerate(funcs):\n",
    "        y1[i] = y[i] + dt * f(t, y)\n",
    "    \n",
    "    for (i, f) in enumerate(funcs):\n",
    "        ny[i] = y[i] + dt * (f(t, y) + f(t + dt, y1)) / 2.0\n",
    "    \n",
    "    return ny\n",
    "\n",
    "def rk_4_step(dt, t, y, funcs):\n",
    "    sz = len(funcs)\n",
    "    ny = np.zeros((sz,), dtype=np.float64)#[None] * sz\n",
    "    \n",
    "    two = float(2.0)\n",
    "    \n",
    "    k1 = np.array([dt * f(t, y) for f in funcs], dtype=np.float64)\n",
    "    y1 = y + k1 / two #np.array([(y[i] + k1[i] / 2.0) for i in range(sz) ])\n",
    "    #print(y1, (y + k1 / 2.0))\n",
    "    t1 = (t + dt / two)\n",
    "    \n",
    "    k2 = np.array([dt * f(t1, y1) for f in funcs], dtype=np.float64)\n",
    "    y2 = y + k2 / two #[(y[i] + k2[i] / two) for i in range(sz) ] #\n",
    "    t2 = t1\n",
    "    \n",
    "    k3 = np.array([dt * f(t2, y2) for f in funcs], dtype=np.float64)\n",
    "    y3 = y + k3 #[(y[i] + k3[i]) for i in range(sz) ]\n",
    "    t3 = (t + dt)\n",
    "    \n",
    "    k4 = np.array([dt * f(t3, y3) for f in funcs], dtype=np.float64)\n",
    "    \n",
    "    for (i, f) in enumerate(funcs):\n",
    "        ny[i] = y[i] + ( k1[i] + k4[i] + two * (k2[i] + k3[i]) ) / float(6.0)\n",
    "    return ny"
   ]
  },
  {
   "cell_type": "markdown",
   "metadata": {},
   "source": [
    "<h1>White Dwarf</h1>"
   ]
  },
  {
   "cell_type": "code",
   "execution_count": 85,
   "metadata": {},
   "outputs": [
    {
     "name": "stdout",
     "output_type": "stream",
     "text": [
      "2.231443166940566e-05\n",
      "[3.33321777e+39 9.99988444e+09]\n",
      "Start solve by:  rk_4_step\n",
      ".Solved\n",
      "Start solve by:  euler_koshi_step\n",
      ".Solved\n"
     ]
    },
    {
     "name": "stderr",
     "output_type": "stream",
     "text": [
      "/usr/local/lib/python3.7/site-packages/ipykernel_launcher.py:4: RuntimeWarning: invalid value encountered in power\n",
      "  after removing the cwd from sys.path.\n"
     ]
    },
    {
     "data": {
      "image/png": "[encoded data removed]",
      "text/plain": [
       "<Figure size 864x432 with 1 Axes>"
      ]
     },
     "metadata": {
      "needs_background": "light"
     },
     "output_type": "display_data"
    }
   ],
   "source": [
    "def psi(p):\n",
    "    #print(p)\n",
    "    \n",
    "    x = np.power(p, 2.0/float(3.0), dtype=np.float64)\n",
    "    if np.isnan(x):\n",
    "        return np.inf\n",
    "    #x2 = np.power(x, 2)\n",
    "    return x / 3.0 / np.sqrt(1 + x)\n",
    "\n",
    "funcs = [\n",
    "    lambda r, y: y[1] * r**2, # dm/dr = p * r^2\n",
    "    lambda r, y: -y[0] * y[1] / r**2 / psi(y[1]), # dp/dr = -m * p / psi / r^2\n",
    "]\n",
    "\n",
    "Pc = 1e10\n",
    "\n",
    "dr = 1.0/float(3.0) * np.power(3e-3 / float(Pc), 1.0/float(3.0))\n",
    "print(dr)\n",
    "\n",
    "r0 = dr / float(10.0)\n",
    "\n",
    "P0 = Pc - 1.0/float(6.0) * np.power(Pc * r0, 2) / psi(Pc)\n",
    "\n",
    "m0 = Pc/float(3.0) * np.power(P0, 3)\n",
    "\n",
    "y0 = np.array([m0, P0], dtype=np.float64)\n",
    "\n",
    "print(y0)\n",
    "\n",
    "R_rk4, result_rk4 = solver(rk_4_step, r0, y0, funcs=funcs, dt=dr)\n",
    "\n",
    "R_euler, result_ek = solver(euler_koshi_step, r0, y0, funcs=funcs, dt=dr)\n",
    "\n",
    "#print(np.array(result_rk4) - np.array(result_ek[:-1]))\n",
    "#print(result_ek, \"\\n\\n\", result_rk4)\n",
    "\n",
    "\n",
    "plt.figure(figsize=(12, 6))\n",
    "plt.plot(result_rk4[:,0], result_rk4[:,1], color='blue', label='P/m: {:f}'.format(R_rk4))\n",
    "\n",
    "plt.plot(result_ek[:,0], result_ek[:,1], color='orange', label='P/m euler: {:f}'.format(R_euler))\n",
    "\n",
    "#plt.plot(rk4_res_x, rk4_res_y, color='green', label='rk_4_step')\n",
    "plt.legend(loc=\"lower left\")\n",
    "plt.show()\n"
   ]
  },
  {
   "cell_type": "code",
   "execution_count": null,
   "metadata": {},
   "outputs": [],
   "source": []
  }
 ],
 "metadata": {
  "kernelspec": {
   "display_name": "Python 3",
   "language": "python",
   "name": "python3"
  },
  "language_info": {
   "codemirror_mode": {
    "name": "ipython",
    "version": 3
   },
   "file_extension": ".py",
   "mimetype": "text/x-python",
   "name": "python",
   "nbconvert_exporter": "python",
   "pygments_lexer": "ipython3",
   "version": "3.7.0"
  }
 },
 "nbformat": 4,
 "nbformat_minor": 2
}
