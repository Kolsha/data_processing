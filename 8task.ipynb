{
 "cells": [
  {
   "cell_type": "code",
   "execution_count": 1,
   "metadata": {},
   "outputs": [],
   "source": [
    "import numpy as np\n",
    "import matplotlib.pyplot as plt"
   ]
  },
  {
   "cell_type": "markdown",
   "metadata": {},
   "source": [
    "# 8 Task"
   ]
  },
  {
   "cell_type": "code",
   "execution_count": 9,
   "metadata": {},
   "outputs": [],
   "source": [
    "def dichotomy(func, x0, x1, step=1e-3, eps=1e-6):\n",
    "    left = x0\n",
    "    right = x0 + step\n",
    "    # find zero\n",
    "    while right + step < x1 and func(left) * func(right) > 0:\n",
    "        left, right = right, right + step\n",
    "\n",
    "    # check wether we really have found a zero\n",
    "    if func(left) * func(right) > 0:\n",
    "        return None\n",
    "    middle = (left + right) / 2\n",
    "    while np.abs(func(middle)) > eps:\n",
    "        if func(left) * func(middle) < 0:\n",
    "            right = middle\n",
    "        else:\n",
    "            left = middle\n",
    "        middle = (left + right) / 2\n",
    "    return middle\n",
    "\n",
    "def find_all_zeros(func_builder, x0, x1, step = 1e-3, eps = 1e-6):\n",
    "    res = []\n",
    "    n = 1\n",
    "    while True:\n",
    "        zero = dichotomy(func_builder(n), x0, x1, step, eps)\n",
    "        if zero is None:\n",
    "            break\n",
    "        #print('#%d zero found' % n)\n",
    "        res.append(zero)\n",
    "        n += 1\n",
    "        if n == 3:\n",
    "            break\n",
    "    return res\n",
    "\n",
    "def lj_potential(x):\n",
    "    return 4*(np.power(x, -12) - np.power(x, -6))"
   ]
  },
  {
   "cell_type": "code",
   "execution_count": 10,
   "metadata": {},
   "outputs": [],
   "source": [
    "m = 1.790476689362e-27# kg\n",
    "h = 1.0545718e-34\n",
    "a = 6.5926e-11 # m\n",
    "E0 = 0.00001\n",
    "dE = 0.0001\n",
    "N = 500\n",
    "n = int(N / 2)\n",
    "\n",
    "m = 1\n",
    "h = 1\n",
    "x = np.linspace(0.00001, 1, N)"
   ]
  },
  {
   "cell_type": "code",
   "execution_count": 16,
   "metadata": {},
   "outputs": [],
   "source": [
    "def find_psi(E):\n",
    "    k = 2 * m * (E - lj_potential(x)) / (h ** 2)\n",
    "    psi_minus = np.zeros(n)\n",
    "\n",
    "    psi_minus[n-2] = 1\n",
    "    for i in range(n-3, -1, -1):\n",
    "        s = ( (2*(1 - (5*(k[i+1]*h)**2)/12))*psi_minus[i+1]\n",
    "                             - (1 + ((h* k[i+2])**2) /12)*psi_minus[i+2]) / (1 + ( (h* k[i])**2)/12)\n",
    "        psi_minus[i] = ( (2*(1 - (5*(k[i+1]*h)**2)/12))*psi_minus[i+1]\n",
    "                             - (1 + ((h* k[i+2])**2) /12)*psi_minus[i+2]) / (1 + ( (h* k[i])**2)/12)\n",
    "    psi_plus = np.zeros(n)\n",
    "    psi_plus[1] = 1\n",
    "\n",
    "    for i in range (2, n - 2):\n",
    "        psi_plus[i] = ( (2*(1 - (5*(k[i-1]*h)**2)/12))*psi_plus[i-1]\n",
    "                             - (1 + ( (h* k[i-2])**2) /12)*psi_plus[i+2]) / (1 + ( (h* k[i])**2)/12)\n",
    "    #print(psi_plus)\n",
    "    psi = np.concatenate([psi_minus, psi_plus])\n",
    "    psi *= psi_plus[n-1]/psi_minus[n-1]\n",
    "    return psi"
   ]
  },
  {
   "cell_type": "code",
   "execution_count": 17,
   "metadata": {},
   "outputs": [],
   "source": [
    "def find_E():\n",
    "    E = E0\n",
    "    res = []\n",
    "    psi = find_psi(E0)\n",
    "    while E < 1:\n",
    "        while abs(psi[N-1] ) > 0.0001:\n",
    "            E += dE\n",
    "            psi = find_psi(E)\n",
    "        res.append(E)\n",
    "        E += dE\n",
    "    #куда дихотомию?? в кунине вроде так предлагают\n",
    "    #значения К какие-то дикие"
   ]
  },
  {
   "cell_type": "code",
   "execution_count": 18,
   "metadata": {},
   "outputs": [
    {
     "ename": "IndexError",
     "evalue": "index 248 is out of bounds for axis 0 with size 200",
     "output_type": "error",
     "traceback": [
      "\u001b[0;31m---------------------------------------------------------------------------\u001b[0m",
      "\u001b[0;31mIndexError\u001b[0m                                Traceback (most recent call last)",
      "\u001b[0;32m<ipython-input-18-e8b838ccdf50>\u001b[0m in \u001b[0;36m<module>\u001b[0;34m()\u001b[0m\n\u001b[0;32m----> 1\u001b[0;31m \u001b[0mresult\u001b[0m \u001b[0;34m=\u001b[0m \u001b[0mfind_E\u001b[0m\u001b[0;34m(\u001b[0m\u001b[0;34m)\u001b[0m\u001b[0;34m\u001b[0m\u001b[0m\n\u001b[0m\u001b[1;32m      2\u001b[0m \u001b[0;34m\u001b[0m\u001b[0m\n\u001b[1;32m      3\u001b[0m \u001b[0;34m\u001b[0m\u001b[0m\n\u001b[1;32m      4\u001b[0m \u001b[0;32mdef\u001b[0m \u001b[0mget_bounds\u001b[0m\u001b[0;34m(\u001b[0m\u001b[0mEn\u001b[0m\u001b[0;34m)\u001b[0m\u001b[0;34m:\u001b[0m\u001b[0;34m\u001b[0m\u001b[0m\n\u001b[1;32m      5\u001b[0m     \u001b[0mdx\u001b[0m \u001b[0;34m=\u001b[0m \u001b[0mnp\u001b[0m\u001b[0;34m.\u001b[0m\u001b[0msqrt\u001b[0m\u001b[0;34m(\u001b[0m\u001b[0;36m1\u001b[0m\u001b[0;34m+\u001b[0m\u001b[0mEn\u001b[0m\u001b[0;34m)\u001b[0m\u001b[0;34m\u001b[0m\u001b[0m\n",
      "\u001b[0;32m<ipython-input-17-ae1f2b1dbef7>\u001b[0m in \u001b[0;36mfind_E\u001b[0;34m()\u001b[0m\n\u001b[1;32m      2\u001b[0m     \u001b[0mE\u001b[0m \u001b[0;34m=\u001b[0m \u001b[0mE0\u001b[0m\u001b[0;34m\u001b[0m\u001b[0m\n\u001b[1;32m      3\u001b[0m     \u001b[0mres\u001b[0m \u001b[0;34m=\u001b[0m \u001b[0;34m[\u001b[0m\u001b[0;34m]\u001b[0m\u001b[0;34m\u001b[0m\u001b[0m\n\u001b[0;32m----> 4\u001b[0;31m     \u001b[0mpsi\u001b[0m \u001b[0;34m=\u001b[0m \u001b[0mfind_psi\u001b[0m\u001b[0;34m(\u001b[0m\u001b[0mE0\u001b[0m\u001b[0;34m)\u001b[0m\u001b[0;34m\u001b[0m\u001b[0m\n\u001b[0m\u001b[1;32m      5\u001b[0m     \u001b[0;32mwhile\u001b[0m \u001b[0mE\u001b[0m \u001b[0;34m<\u001b[0m \u001b[0;36m1\u001b[0m\u001b[0;34m:\u001b[0m\u001b[0;34m\u001b[0m\u001b[0m\n\u001b[1;32m      6\u001b[0m         \u001b[0;32mwhile\u001b[0m \u001b[0mabs\u001b[0m\u001b[0;34m(\u001b[0m\u001b[0mpsi\u001b[0m\u001b[0;34m[\u001b[0m\u001b[0mN\u001b[0m\u001b[0;34m-\u001b[0m\u001b[0;36m1\u001b[0m\u001b[0;34m]\u001b[0m \u001b[0;34m)\u001b[0m \u001b[0;34m>\u001b[0m \u001b[0;36m0.0001\u001b[0m\u001b[0;34m:\u001b[0m\u001b[0;34m\u001b[0m\u001b[0m\n",
      "\u001b[0;32m<ipython-input-16-f365872d5446>\u001b[0m in \u001b[0;36mfind_psi\u001b[0;34m(E)\u001b[0m\n\u001b[1;32m      5\u001b[0m     \u001b[0mpsi_minus\u001b[0m\u001b[0;34m[\u001b[0m\u001b[0mn\u001b[0m\u001b[0;34m-\u001b[0m\u001b[0;36m2\u001b[0m\u001b[0;34m]\u001b[0m \u001b[0;34m=\u001b[0m \u001b[0;36m1\u001b[0m\u001b[0;34m\u001b[0m\u001b[0m\n\u001b[1;32m      6\u001b[0m     \u001b[0;32mfor\u001b[0m \u001b[0mi\u001b[0m \u001b[0;32min\u001b[0m \u001b[0mrange\u001b[0m\u001b[0;34m(\u001b[0m\u001b[0mn\u001b[0m\u001b[0;34m-\u001b[0m\u001b[0;36m3\u001b[0m\u001b[0;34m,\u001b[0m \u001b[0;34m-\u001b[0m\u001b[0;36m1\u001b[0m\u001b[0;34m,\u001b[0m \u001b[0;34m-\u001b[0m\u001b[0;36m1\u001b[0m\u001b[0;34m)\u001b[0m\u001b[0;34m:\u001b[0m\u001b[0;34m\u001b[0m\u001b[0m\n\u001b[0;32m----> 7\u001b[0;31m         s = ( (2*(1 - (5*(k[i+1]*h)**2)/12))*psi_minus[i+1]\n\u001b[0m\u001b[1;32m      8\u001b[0m                              - (1 + ((h* k[i+2])**2) /12)*psi_minus[i+2]) / (1 + ( (h* k[i])**2)/12)\n\u001b[1;32m      9\u001b[0m         psi_minus[i] = ( (2*(1 - (5*(k[i+1]*h)**2)/12))*psi_minus[i+1]\n",
      "\u001b[0;31mIndexError\u001b[0m: index 248 is out of bounds for axis 0 with size 200"
     ]
    }
   ],
   "source": [
    "result = find_E()\n",
    "\n",
    "\n",
    "def get_bounds(En):\n",
    "    dx = np.sqrt(1+En)\n",
    "    x0 = np.power(0.5*(1 + dx), -1/6) + 1e-5\n",
    "    x1 = np.power(0.5*(1 - dx), -1/6)\n",
    "    return x0, x1"
   ]
  },
  {
   "cell_type": "code",
   "execution_count": 19,
   "metadata": {},
   "outputs": [
    {
     "data": {
      "image/png": "[encoded data removed]",
      "text/plain": [
       "<Figure size 864x432 with 1 Axes>"
      ]
     },
     "metadata": {
      "needs_background": "light"
     },
     "output_type": "display_data"
    }
   ],
   "source": [
    "x = np.linspace(-5, 5, 200)\n",
    "y = lj_potential(x)\n",
    "\n",
    "plt.figure(figsize=(12, 6))\n",
    "plt.plot(x, y)\n",
    "\n",
    "# for i, zero in enumerate(result):\n",
    "#     x0, x1 = get_bounds(zero)\n",
    "#     plt.hlines(zero, x0, x1)\n",
    "#     plt.text(x1 + 0.05, zero, 'E{:d}={:g}'.format(i + 1, zero), fontsize=12, verticalalignment='center')\n",
    "\n",
    "# print(zeros[1:] - zeros[:-1])\n",
    "plt.xlabel('r', fontsize=14)\n",
    "plt.ylabel('E', fontsize=14)\n",
    "\n",
    "plt.show()"
   ]
  },
  {
   "cell_type": "code",
   "execution_count": null,
   "metadata": {},
   "outputs": [],
   "source": []
  }
 ],
 "metadata": {
  "kernelspec": {
   "display_name": "Python 3",
   "language": "python",
   "name": "python3"
  },
  "language_info": {
   "codemirror_mode": {
    "name": "ipython",
    "version": 3
   },
   "file_extension": ".py",
   "mimetype": "text/x-python",
   "name": "python",
   "nbconvert_exporter": "python",
   "pygments_lexer": "ipython3",
   "version": "3.7.0"
  }
 },
 "nbformat": 4,
 "nbformat_minor": 2
}
